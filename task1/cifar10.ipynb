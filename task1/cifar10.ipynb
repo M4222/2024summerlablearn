{
 "cells": [
  {
   "cell_type": "code",
   "execution_count": 1,
   "id": "35e3d813",
   "metadata": {
    "id": "35e3d813"
   },
   "outputs": [],
   "source": [
    "import os\n",
    "from PIL import Image\n",
    "import matplotlib.pyplot as plt\n",
    "import numpy as np\n",
    "import torch\n",
    "from torch import nn\n",
    "from torch.utils.data import DataLoader\n",
    "from torchvision import transforms\n",
    "import torch.optim as optim\n",
    "import time\n",
    "\n",
    "CIFAR_URL = 'https://www.cs.toronto.edu/~kriz/cifar-10-python.tar.gz'"
   ]
  },
  {
   "cell_type": "code",
   "execution_count": 3,
   "id": "a6e2507e",
   "metadata": {
    "colab": {
     "base_uri": "https://localhost:8080/"
    },
    "id": "a6e2507e",
    "outputId": "03c5c348-b100-4cdf-f648-644c14b0b505"
   },
   "outputs": [
    {
     "name": "stdout",
     "output_type": "stream",
     "text": [
      "make dir\n",
      "downloading CIFAR\n",
      "unpacking CIFAR\n"
     ]
    }
   ],
   "source": [
    "def downloadCIFAR():\n",
    "    if not os.path.exists('../data'):\n",
    "        os.system('mkdir ../data')\n",
    "        print('make dir')\n",
    "    if not os.path.exists('../data/cifar-10-python.tar.gz'):\n",
    "        print('downloading CIFAR')\n",
    "        os.system('wget {}'.format(CIFAR_URL))\n",
    "        os.system('mv ./cifar-10-python.tar.gz ../data/cifar-10-python.tar.gz')\n",
    "    else:\n",
    "        print('CIFAR exist')\n",
    "    if not os.path.exists('../data/cifar-10-batches-py'):\n",
    "        print('unpacking CIFAR')\n",
    "        os.system('tar -zxvf ../data/cifar-10-python.tar.gz -C ../data/')\n",
    "    else:\n",
    "        print('CIFAR unpacked')\n",
    "\n",
    "downloadCIFAR()"
   ]
  },
  {
   "cell_type": "code",
   "execution_count": 4,
   "id": "f976e5be",
   "metadata": {
    "colab": {
     "base_uri": "https://localhost:8080/",
     "height": 452
    },
    "id": "f976e5be",
    "outputId": "c994404b-90ac-486b-db80-ea466f376cf4"
   },
   "outputs": [
    {
     "data": {
      "image/png": "[encoded data removed]",
      "text/plain": [
       "<Figure size 640x480 with 1 Axes>"
      ]
     },
     "metadata": {},
     "output_type": "display_data"
    }
   ],
   "source": [
    "def unpickle(file):\n",
    "    import pickle\n",
    "    with open(file, 'rb') as fo:\n",
    "        dict = pickle.load(fo, encoding='bytes')\n",
    "    return dict\n",
    "\n",
    "\n",
    "def show_img(num):\n",
    "    dict = unpickle('../data/cifar-10-batches-py/data_batch_1')\n",
    "    info = unpickle('../data/cifar-10-batches-py/batches.meta')\n",
    "    np_img = dict[b'data'][num].reshape([3, 32, 32])\n",
    "    np_img = np_img.transpose(1, 2, 0)\n",
    "    label = info[b'label_names'][dict[b'labels'][num]]\n",
    "\n",
    "    plt.imshow(np_img)\n",
    "    plt.axis('on')\n",
    "    plt.title(label)\n",
    "    plt.show()\n",
    "\n",
    "\n",
    "show_img(6)"
   ]
  },
  {
   "cell_type": "code",
   "execution_count": 5,
   "id": "b1eece30",
   "metadata": {
    "colab": {
     "base_uri": "https://localhost:8080/"
    },
    "id": "b1eece30",
    "outputId": "7409752e-0af5-4a9a-cad5-fc9099bbb967"
   },
   "outputs": [
    {
     "name": "stdout",
     "output_type": "stream",
     "text": [
      "torch.Size([50000]) torch.Size([50000, 3, 32, 32]) torch.Size([10000]) torch.Size([10000, 3, 32, 32])\n"
     ]
    }
   ],
   "source": [
    "def get_label_data(train_val, num=0):\n",
    "    if train_val == 'train':\n",
    "        dict = unpickle('../data/cifar-10-batches-py/data_batch_{}'.format(num))\n",
    "        return torch.tensor(dict[b'labels'], dtype=torch.long), torch.tensor(dict[b'data'],\n",
    "                                                                                dtype=torch.float32).reshape(10000, 3, 32, 32)\n",
    "    else:\n",
    "        dict = unpickle('../data/cifar-10-batches-py/test_batch')\n",
    "        return torch.tensor(dict[b'labels'], dtype=torch.long), torch.tensor(dict[b'data'],\n",
    "                                                                                dtype=torch.float32).reshape(10000, 3, 32, 32)\n",
    "\n",
    "def load_data():\n",
    "    for i in range(5):\n",
    "        if i == 0:\n",
    "            train_labels, train_data = get_label_data('train', i + 1)\n",
    "        else:\n",
    "            res = get_label_data('train', i + 1)\n",
    "            train_labels = torch.concat((train_labels, res[0]), dim=0)\n",
    "            train_data = torch.concat((train_data, res[1]), dim=0)\n",
    "    test_labels, test_data = get_label_data('test')\n",
    "    return train_labels, train_data, test_labels, test_data\n",
    "\n",
    "train_labels, train_data, test_labels, test_data = load_data()\n",
    "print(train_labels.shape, train_data.shape, test_labels.shape, test_data.shape)"
   ]
  },
  {
   "cell_type": "markdown",
   "id": "197f6c7a",
   "metadata": {
    "id": "197f6c7a"
   },
   "source": [
    "# 自定义训练"
   ]
  },
  {
   "cell_type": "code",
   "execution_count": 6,
   "id": "335a0f59",
   "metadata": {
    "id": "335a0f59"
   },
   "outputs": [],
   "source": [
    "import torch\n",
    "import torch.nn as nn\n",
    "import torch.nn.functional as F\n",
    "#定义网络模型\n",
    "class BasicBlock(nn.Module):  #定义BasicBlock类\n",
    "    expansion = 1\n",
    "\n",
    "    def __init__(self, in_planes, planes, stride=1):   #构造函数，初始化对象（输入通道数、输出通道数、步长）\n",
    "        super(BasicBlock, self).__init__()\n",
    "        self.conv1 = nn.Conv2d(in_planes, planes, kernel_size=3, stride=stride, padding=1, bias=False) #定义第一个卷积层\n",
    "        self.bn1 = nn.BatchNorm2d(planes)  #批量归一化层\n",
    "        self.conv2 = nn.Conv2d(planes, planes, kernel_size=3, stride=1, padding=1, bias=False) #定义第二个卷积层\n",
    "        self.bn2 = nn.BatchNorm2d(planes)  #批量归一化层\n",
    "\n",
    "        self.shortcut = nn.Sequential()  #初始化空顺序容器，实现残差连接\n",
    "        if stride != 1 or in_planes != self.expansion*planes: #如果步长不为 1 或者输入通道数与输出通道数不匹配，则需要修改 shortcut\n",
    "            self.shortcut = nn.Sequential( #重新定义 shortcut，包含一个卷积层和一个批量归一化层。\n",
    "                nn.Conv2d(in_planes, self.expansion*planes, kernel_size=1, stride=stride, bias=False),\n",
    "                nn.BatchNorm2d(self.expansion*planes)\n",
    "            )\n",
    "\n",
    "    def forward(self, x):  #定义前向传播函数\n",
    "        out = F.relu(self.bn1(self.conv1(x)))\n",
    "        out = self.bn2(self.conv2(out))\n",
    "        out += self.shortcut(x)\n",
    "        out = F.relu(out)\n",
    "        return out\n",
    "\n",
    "class ResNet(nn.Module):  #定义残差网络模型\n",
    "    def __init__(self, block, num_blocks, num_classes=10):  #构造函数，（基本块、每个残差层的块数、输出类别数量）\n",
    "        super(ResNet, self).__init__()\n",
    "        self.in_planes = 64  #初始化输入通道数\n",
    "\n",
    "        self.conv1 = nn.Conv2d(3, 64, kernel_size=3, stride=1, padding=1, bias=False) #定义卷积层\n",
    "        self.bn1 = nn.BatchNorm2d(64)  #批量归一化层\n",
    "        self.layer1 = self._make_layer(block, 64, num_blocks[0], stride=1) #定义四个残差层，每个层由多个block组成\n",
    "        self.layer2 = self._make_layer(block, 128, num_blocks[1], stride=2)\n",
    "        self.layer3 = self._make_layer(block, 256, num_blocks[2], stride=2)\n",
    "        self.layer4 = self._make_layer(block, 512, num_blocks[3], stride=2)\n",
    "        self.linear = nn.Linear(512*block.expansion, num_classes)  #全连接层\n",
    "\n",
    "    def _make_layer(self, block, planes, num_blocks, stride):  #创建由多个block组成的残差层\n",
    "        strides = [stride] + [1]*(num_blocks-1)\n",
    "        layers = []\n",
    "        for stride in strides:  #循环创建每个块\n",
    "            layers.append(block(self.in_planes, planes, stride))\n",
    "            self.in_planes = planes * block.expansion\n",
    "        return nn.Sequential(*layers)  #返回包含所有块的顺序容器\n",
    "\n",
    "    def forward(self, x):  #前向传播\n",
    "        out = F.relu(self.bn1(self.conv1(x)))  #应用Relu激活函数\n",
    "        out = self.layer1(out) #依次通过四个残差层\n",
    "        out = self.layer2(out)\n",
    "        out = self.layer3(out)\n",
    "        out = self.layer4(out)\n",
    "        out = F.avg_pool2d(out, 4)  #应用平均池化减小空间维度\n",
    "        out = out.view(out.size(0), -1)\n",
    "        out = self.linear(out)  #全连接层\n",
    "        return out\n",
    "\n",
    "\n",
    "# 定义ResNet-18\n",
    "num_blocks = [2, 2, 2, 2]  # ResNet-18的结构\n",
    "model = ResNet(BasicBlock, num_blocks, num_classes=10)  #实例化网络模型\n"
   ]
  },
  {
   "cell_type": "code",
   "execution_count": 7,
   "id": "2bba01c4",
   "metadata": {
    "id": "2bba01c4"
   },
   "outputs": [],
   "source": [
    "import torch\n",
    "import torch.nn.functional as F\n",
    "def criterion(outputs, targets):  #定义损失函数\n",
    "    # 转换 targets 为 one-hot 编码\n",
    "    batch_size = outputs.size(0)   #获取批次大小和类别数\n",
    "    num_classes = outputs.size(1)\n",
    "    targets_one_hot = torch.zeros(batch_size, num_classes).to(outputs.device)\n",
    "    targets_one_hot.scatter_(1, targets.view(-1, 1), 1)\n",
    "\n",
    "    # 计算 log-softmax\n",
    "    log_probs = F.log_softmax(outputs, dim=1)   #得到每个类别的对数概率\n",
    "\n",
    "    # 计算负对数似然损失\n",
    "    loss = -torch.sum(log_probs * targets_one_hot, dim=1)\n",
    "    loss = torch.mean(loss)\n",
    "\n",
    "    return loss   #返回损失值"
   ]
  },
  {
   "cell_type": "code",
   "execution_count": 8,
   "id": "1fb9bc31",
   "metadata": {
    "id": "1fb9bc31"
   },
   "outputs": [],
   "source": [
    "class SimpleSGD:    #定义优化器类\n",
    "    def __init__(self, params, lr=0.001):   #构造函数，初始化模型参数列表和学习率\n",
    "        self.params = list(params)\n",
    "        self.lr = lr\n",
    "\n",
    "    def zero_grad(self):  #清零参数的梯度\n",
    "        for param in self.params:\n",
    "            if param.grad is not None:\n",
    "                param.grad.data.zero_()\n",
    "\n",
    "    def step(self):   #执行一步参数更新\n",
    "        with torch.no_grad():\n",
    "            for param in self.params:\n",
    "                if param.grad is not None:\n",
    "                    param.data -= self.lr * param.grad.data"
   ]
  },
  {
   "cell_type": "code",
   "execution_count": 9,
   "id": "d7d6cb86",
   "metadata": {
    "id": "d7d6cb86"
   },
   "outputs": [],
   "source": [
    "optimizer = SimpleSGD(model.parameters(), lr=0.001)  #定义优化器"
   ]
  },
  {
   "cell_type": "code",
   "execution_count": 11,
   "id": "39b89dbf",
   "metadata": {
    "colab": {
     "base_uri": "https://localhost:8080/"
    },
    "id": "39b89dbf",
    "outputId": "db597c96-c85e-4e01-9adf-86f3c357baa5"
   },
   "outputs": [
    {
     "name": "stdout",
     "output_type": "stream",
     "text": [
      "Train Epoch: 1 [6400/50000 (13%)]\tLoss: 1.719762\tAcc: 39.02%\n",
      "Train Epoch: 1 [12800/50000 (26%)]\tLoss: 0.827149\tAcc: 39.61%\n",
      "Train Epoch: 1 [19200/50000 (38%)]\tLoss: 0.535356\tAcc: 42.14%\n",
      "Train Epoch: 1 [25600/50000 (51%)]\tLoss: 0.390692\tAcc: 44.12%\n",
      "Train Epoch: 1 [32000/50000 (64%)]\tLoss: 0.307736\tAcc: 44.41%\n",
      "Train Epoch: 1 [38400/50000 (77%)]\tLoss: 0.252033\tAcc: 45.09%\n",
      "Train Epoch: 1 [44800/50000 (90%)]\tLoss: 0.210467\tAcc: 46.78%\n",
      "Train Epoch: 2 [6400/50000 (13%)]\tLoss: 1.432122\tAcc: 49.16%\n",
      "Train Epoch: 2 [12800/50000 (26%)]\tLoss: 0.686282\tAcc: 50.48%\n",
      "Train Epoch: 2 [19200/50000 (38%)]\tLoss: 0.457591\tAcc: 49.70%\n",
      "Train Epoch: 2 [25600/50000 (51%)]\tLoss: 0.343660\tAcc: 49.61%\n",
      "Train Epoch: 2 [32000/50000 (64%)]\tLoss: 0.267118\tAcc: 51.09%\n",
      "Train Epoch: 2 [38400/50000 (77%)]\tLoss: 0.219026\tAcc: 52.22%\n",
      "Train Epoch: 2 [44800/50000 (90%)]\tLoss: 0.185457\tAcc: 52.81%\n",
      "Train Epoch: 3 [6400/50000 (13%)]\tLoss: 1.234719\tAcc: 56.20%\n",
      "Train Epoch: 3 [12800/50000 (26%)]\tLoss: 0.624255\tAcc: 55.12%\n",
      "Train Epoch: 3 [19200/50000 (38%)]\tLoss: 0.409238\tAcc: 55.12%\n",
      "Train Epoch: 3 [25600/50000 (51%)]\tLoss: 0.301641\tAcc: 57.00%\n",
      "Train Epoch: 3 [32000/50000 (64%)]\tLoss: 0.242331\tAcc: 55.88%\n",
      "Train Epoch: 3 [38400/50000 (77%)]\tLoss: 0.198487\tAcc: 57.05%\n",
      "Train Epoch: 3 [44800/50000 (90%)]\tLoss: 0.167557\tAcc: 58.44%\n",
      "Train Epoch: 4 [6400/50000 (13%)]\tLoss: 1.140996\tAcc: 59.27%\n",
      "Train Epoch: 4 [12800/50000 (26%)]\tLoss: 0.556276\tAcc: 59.80%\n",
      "Train Epoch: 4 [19200/50000 (38%)]\tLoss: 0.366023\tAcc: 60.95%\n",
      "Train Epoch: 4 [25600/50000 (51%)]\tLoss: 0.274947\tAcc: 61.31%\n",
      "Train Epoch: 4 [32000/50000 (64%)]\tLoss: 0.217291\tAcc: 61.33%\n",
      "Train Epoch: 4 [38400/50000 (77%)]\tLoss: 0.179087\tAcc: 61.08%\n",
      "Train Epoch: 4 [44800/50000 (90%)]\tLoss: 0.155057\tAcc: 60.64%\n",
      "Train Epoch: 5 [6400/50000 (13%)]\tLoss: 1.018003\tAcc: 63.49%\n",
      "Train Epoch: 5 [12800/50000 (26%)]\tLoss: 0.502982\tAcc: 64.67%\n",
      "Train Epoch: 5 [19200/50000 (38%)]\tLoss: 0.337181\tAcc: 64.12%\n",
      "Train Epoch: 5 [25600/50000 (51%)]\tLoss: 0.250226\tAcc: 64.20%\n",
      "Train Epoch: 5 [32000/50000 (64%)]\tLoss: 0.192673\tAcc: 66.22%\n",
      "Train Epoch: 5 [38400/50000 (77%)]\tLoss: 0.166494\tAcc: 64.31%\n",
      "Train Epoch: 5 [44800/50000 (90%)]\tLoss: 0.140933\tAcc: 64.86%\n",
      "Train Epoch: 6 [6400/50000 (13%)]\tLoss: 0.920702\tAcc: 67.71%\n",
      "Train Epoch: 6 [12800/50000 (26%)]\tLoss: 0.462906\tAcc: 66.12%\n",
      "Train Epoch: 6 [19200/50000 (38%)]\tLoss: 0.305214\tAcc: 68.33%\n",
      "Train Epoch: 6 [25600/50000 (51%)]\tLoss: 0.221908\tAcc: 68.62%\n",
      "Train Epoch: 6 [32000/50000 (64%)]\tLoss: 0.178470\tAcc: 68.02%\n",
      "Train Epoch: 6 [38400/50000 (77%)]\tLoss: 0.150068\tAcc: 68.17%\n",
      "Train Epoch: 6 [44800/50000 (90%)]\tLoss: 0.128891\tAcc: 67.64%\n",
      "Train Epoch: 7 [6400/50000 (13%)]\tLoss: 0.829877\tAcc: 71.86%\n",
      "Train Epoch: 7 [12800/50000 (26%)]\tLoss: 0.404701\tAcc: 71.73%\n",
      "Train Epoch: 7 [19200/50000 (38%)]\tLoss: 0.273595\tAcc: 71.36%\n",
      "Train Epoch: 7 [25600/50000 (51%)]\tLoss: 0.202424\tAcc: 71.16%\n",
      "Train Epoch: 7 [32000/50000 (64%)]\tLoss: 0.162466\tAcc: 72.19%\n",
      "Train Epoch: 7 [38400/50000 (77%)]\tLoss: 0.136558\tAcc: 71.66%\n",
      "Train Epoch: 7 [44800/50000 (90%)]\tLoss: 0.114021\tAcc: 71.88%\n",
      "Train Epoch: 8 [6400/50000 (13%)]\tLoss: 0.733776\tAcc: 75.40%\n",
      "Train Epoch: 8 [12800/50000 (26%)]\tLoss: 0.365867\tAcc: 74.28%\n",
      "Train Epoch: 8 [19200/50000 (38%)]\tLoss: 0.234705\tAcc: 75.64%\n",
      "Train Epoch: 8 [25600/50000 (51%)]\tLoss: 0.185332\tAcc: 74.67%\n",
      "Train Epoch: 8 [32000/50000 (64%)]\tLoss: 0.147610\tAcc: 74.14%\n",
      "Train Epoch: 8 [38400/50000 (77%)]\tLoss: 0.117187\tAcc: 75.78%\n",
      "Train Epoch: 8 [44800/50000 (90%)]\tLoss: 0.105492\tAcc: 73.56%\n",
      "Train Epoch: 9 [6400/50000 (13%)]\tLoss: 0.643352\tAcc: 79.04%\n",
      "Train Epoch: 9 [12800/50000 (26%)]\tLoss: 0.321035\tAcc: 78.59%\n",
      "Train Epoch: 9 [19200/50000 (38%)]\tLoss: 0.209588\tAcc: 78.56%\n",
      "Train Epoch: 9 [25600/50000 (51%)]\tLoss: 0.161209\tAcc: 77.95%\n",
      "Train Epoch: 9 [32000/50000 (64%)]\tLoss: 0.129603\tAcc: 77.72%\n",
      "Train Epoch: 9 [38400/50000 (77%)]\tLoss: 0.106970\tAcc: 77.64%\n",
      "Train Epoch: 9 [44800/50000 (90%)]\tLoss: 0.091380\tAcc: 77.80%\n",
      "Train Epoch: 10 [6400/50000 (13%)]\tLoss: 0.547969\tAcc: 82.12%\n",
      "Train Epoch: 10 [12800/50000 (26%)]\tLoss: 0.273740\tAcc: 81.55%\n",
      "Train Epoch: 10 [19200/50000 (38%)]\tLoss: 0.181326\tAcc: 81.62%\n",
      "Train Epoch: 10 [25600/50000 (51%)]\tLoss: 0.137256\tAcc: 82.02%\n",
      "Train Epoch: 10 [32000/50000 (64%)]\tLoss: 0.114639\tAcc: 80.64%\n",
      "Train Epoch: 10 [38400/50000 (77%)]\tLoss: 0.092647\tAcc: 81.42%\n",
      "Train Epoch: 10 [44800/50000 (90%)]\tLoss: 0.080739\tAcc: 80.80%\n",
      "Train Epoch: 11 [6400/50000 (13%)]\tLoss: 0.463637\tAcc: 85.46%\n",
      "Train Epoch: 11 [12800/50000 (26%)]\tLoss: 0.224435\tAcc: 85.92%\n",
      "Train Epoch: 11 [19200/50000 (38%)]\tLoss: 0.153462\tAcc: 85.14%\n",
      "Train Epoch: 11 [25600/50000 (51%)]\tLoss: 0.113832\tAcc: 84.75%\n",
      "Train Epoch: 11 [32000/50000 (64%)]\tLoss: 0.093972\tAcc: 84.73%\n",
      "Train Epoch: 11 [38400/50000 (77%)]\tLoss: 0.081512\tAcc: 83.30%\n",
      "Train Epoch: 11 [44800/50000 (90%)]\tLoss: 0.068451\tAcc: 84.12%\n",
      "Train Epoch: 12 [6400/50000 (13%)]\tLoss: 0.378953\tAcc: 88.75%\n",
      "Train Epoch: 12 [12800/50000 (26%)]\tLoss: 0.188920\tAcc: 88.55%\n",
      "Train Epoch: 12 [19200/50000 (38%)]\tLoss: 0.127098\tAcc: 87.91%\n",
      "Train Epoch: 12 [25600/50000 (51%)]\tLoss: 0.098858\tAcc: 87.33%\n",
      "Train Epoch: 12 [32000/50000 (64%)]\tLoss: 0.072783\tAcc: 89.05%\n",
      "Train Epoch: 12 [38400/50000 (77%)]\tLoss: 0.064265\tAcc: 87.78%\n",
      "Train Epoch: 12 [44800/50000 (90%)]\tLoss: 0.057194\tAcc: 86.77%\n",
      "Train Epoch: 13 [6400/50000 (13%)]\tLoss: 0.295300\tAcc: 91.85%\n",
      "Train Epoch: 13 [12800/50000 (26%)]\tLoss: 0.152324\tAcc: 91.08%\n",
      "Train Epoch: 13 [19200/50000 (38%)]\tLoss: 0.099074\tAcc: 91.39%\n",
      "Train Epoch: 13 [25600/50000 (51%)]\tLoss: 0.077923\tAcc: 90.47%\n",
      "Train Epoch: 13 [32000/50000 (64%)]\tLoss: 0.059229\tAcc: 91.52%\n",
      "Train Epoch: 13 [38400/50000 (77%)]\tLoss: 0.051353\tAcc: 90.62%\n",
      "Train Epoch: 13 [44800/50000 (90%)]\tLoss: 0.044284\tAcc: 90.53%\n",
      "Train Epoch: 14 [6400/50000 (13%)]\tLoss: 0.213448\tAcc: 94.97%\n",
      "Train Epoch: 14 [12800/50000 (26%)]\tLoss: 0.104900\tAcc: 94.94%\n",
      "Train Epoch: 14 [19200/50000 (38%)]\tLoss: 0.071078\tAcc: 94.42%\n",
      "Train Epoch: 14 [25600/50000 (51%)]\tLoss: 0.058541\tAcc: 93.50%\n",
      "Train Epoch: 14 [32000/50000 (64%)]\tLoss: 0.049557\tAcc: 93.02%\n",
      "Train Epoch: 14 [38400/50000 (77%)]\tLoss: 0.038181\tAcc: 93.86%\n",
      "Train Epoch: 14 [44800/50000 (90%)]\tLoss: 0.032968\tAcc: 93.73%\n",
      "Train Epoch: 15 [6400/50000 (13%)]\tLoss: 0.158725\tAcc: 96.64%\n",
      "Train Epoch: 15 [12800/50000 (26%)]\tLoss: 0.076861\tAcc: 96.55%\n",
      "Train Epoch: 15 [19200/50000 (38%)]\tLoss: 0.051573\tAcc: 96.92%\n",
      "Train Epoch: 15 [25600/50000 (51%)]\tLoss: 0.039431\tAcc: 96.41%\n",
      "Train Epoch: 15 [32000/50000 (64%)]\tLoss: 0.032623\tAcc: 96.27%\n",
      "Train Epoch: 15 [38400/50000 (77%)]\tLoss: 0.029971\tAcc: 95.38%\n",
      "Train Epoch: 15 [44800/50000 (90%)]\tLoss: 0.024753\tAcc: 95.47%\n",
      "Train Epoch: 16 [6400/50000 (13%)]\tLoss: 0.101395\tAcc: 98.56%\n",
      "Train Epoch: 16 [12800/50000 (26%)]\tLoss: 0.055400\tAcc: 98.20%\n",
      "Train Epoch: 16 [19200/50000 (38%)]\tLoss: 0.035789\tAcc: 98.05%\n",
      "Train Epoch: 16 [25600/50000 (51%)]\tLoss: 0.027739\tAcc: 97.89%\n",
      "Train Epoch: 16 [32000/50000 (64%)]\tLoss: 0.022655\tAcc: 97.59%\n",
      "Train Epoch: 16 [38400/50000 (77%)]\tLoss: 0.019076\tAcc: 97.53%\n",
      "Train Epoch: 16 [44800/50000 (90%)]\tLoss: 0.017538\tAcc: 97.36%\n",
      "Train Epoch: 17 [6400/50000 (13%)]\tLoss: 0.083701\tAcc: 98.72%\n",
      "Train Epoch: 17 [12800/50000 (26%)]\tLoss: 0.035419\tAcc: 99.11%\n",
      "Train Epoch: 17 [19200/50000 (38%)]\tLoss: 0.025256\tAcc: 98.84%\n",
      "Train Epoch: 17 [25600/50000 (51%)]\tLoss: 0.019290\tAcc: 98.94%\n",
      "Train Epoch: 17 [32000/50000 (64%)]\tLoss: 0.017094\tAcc: 98.45%\n",
      "Train Epoch: 17 [38400/50000 (77%)]\tLoss: 0.012906\tAcc: 98.73%\n",
      "Train Epoch: 17 [44800/50000 (90%)]\tLoss: 0.012931\tAcc: 98.44%\n",
      "Train Epoch: 18 [6400/50000 (13%)]\tLoss: 0.060040\tAcc: 99.30%\n",
      "Train Epoch: 18 [12800/50000 (26%)]\tLoss: 0.029928\tAcc: 99.28%\n",
      "Train Epoch: 18 [19200/50000 (38%)]\tLoss: 0.020729\tAcc: 99.16%\n",
      "Train Epoch: 18 [25600/50000 (51%)]\tLoss: 0.016124\tAcc: 99.08%\n",
      "Train Epoch: 18 [32000/50000 (64%)]\tLoss: 0.012220\tAcc: 99.17%\n",
      "Train Epoch: 18 [38400/50000 (77%)]\tLoss: 0.010835\tAcc: 99.03%\n",
      "Train Epoch: 18 [44800/50000 (90%)]\tLoss: 0.008968\tAcc: 99.03%\n",
      "Train Epoch: 19 [6400/50000 (13%)]\tLoss: 0.056351\tAcc: 99.21%\n",
      "Train Epoch: 19 [12800/50000 (26%)]\tLoss: 0.022325\tAcc: 99.50%\n",
      "Train Epoch: 19 [19200/50000 (38%)]\tLoss: 0.015031\tAcc: 99.47%\n",
      "Train Epoch: 19 [25600/50000 (51%)]\tLoss: 0.010407\tAcc: 99.67%\n",
      "Train Epoch: 19 [32000/50000 (64%)]\tLoss: 0.008120\tAcc: 99.66%\n",
      "Train Epoch: 19 [38400/50000 (77%)]\tLoss: 0.007416\tAcc: 99.55%\n",
      "Train Epoch: 19 [44800/50000 (90%)]\tLoss: 0.006032\tAcc: 99.69%\n",
      "Train Epoch: 20 [6400/50000 (13%)]\tLoss: 0.037660\tAcc: 99.74%\n",
      "Train Epoch: 20 [12800/50000 (26%)]\tLoss: 0.020020\tAcc: 99.56%\n",
      "Train Epoch: 20 [19200/50000 (38%)]\tLoss: 0.012304\tAcc: 99.59%\n",
      "Train Epoch: 20 [25600/50000 (51%)]\tLoss: 0.010509\tAcc: 99.47%\n",
      "Train Epoch: 20 [32000/50000 (64%)]\tLoss: 0.007350\tAcc: 99.53%\n",
      "Train Epoch: 20 [38400/50000 (77%)]\tLoss: 0.005991\tAcc: 99.59%\n",
      "Train Epoch: 20 [44800/50000 (90%)]\tLoss: 0.004904\tAcc: 99.66%\n"
     ]
    }
   ],
   "source": [
    "import torch\n",
    "import torch.nn as nn\n",
    "from torch.utils.data import DataLoader, TensorDataset\n",
    "\n",
    "def train(model, device, train_loader, optimizer, epoch, criterion): #定义训练函数\n",
    "    model.train()  #用于训练的模型，设置模型为训练模式\n",
    "    running_loss = 0.0 #初始化损失和准确率的累计变量\n",
    "    corrects = 0\n",
    "    total = 0\n",
    "    for batch_idx, (data, target) in enumerate(train_loader):#遍历数据加载器的每个批次\n",
    "        data, target = data.to(device), target.to(device) #将数据和标签移动到指定设备\n",
    "        optimizer.zero_grad() #梯度清空\n",
    "        output = model(data)  #前向传播得到输出\n",
    "        loss = criterion(output, target) #计算损失\n",
    "        loss.backward()  #反向传播计算梯度\n",
    "        optimizer.step()  #更新模型参数\n",
    "\n",
    "        # 计算并累计准确率\n",
    "        _, preds = torch.max(output, 1)\n",
    "        corrects += torch.sum(preds == target.data)\n",
    "        total += target.size(0)\n",
    "\n",
    "        running_loss += loss.item() * data.size(0)  #累计损失\n",
    "\n",
    "        # 只在batch_idx不为0且是100的倍数时打印\n",
    "        if batch_idx != 0 and batch_idx % 100 == 0:\n",
    "            avg_loss = running_loss / (batch_idx * data.size(0))  #打印损失和准确率\n",
    "            acc = 100. * corrects / total\n",
    "            print('Train Epoch: {} [{}/{} ({:.0f}%)]\\tLoss: {:.6f}\\tAcc: {:.2f}%'.format(\n",
    "                epoch, batch_idx * len(data), len(train_loader.dataset),\n",
    "                100. * batch_idx / len(train_loader), avg_loss, acc))\n",
    "            running_loss = 0.0  #清零。重新累计\n",
    "            corrects = 0\n",
    "            total = 0\n",
    "\n",
    "    return avg_loss, acc\n",
    "\n",
    "# 假设有CUDA 设备\n",
    "device = torch.device(\"cuda\" if torch.cuda.is_available() else \"cpu\")\n",
    "model = model.to(device)  #将模型移动到指定的设备\n",
    "\n",
    "# 初始化列表来存储每个epoch的损失和准确率\n",
    "train_losses = []\n",
    "train_accs = []\n",
    "\n",
    "# 训练模型\n",
    "num_epochs = 20  #设置训练轮数\n",
    "\n",
    "for epoch in range(1, num_epochs + 1): #遍历每个epoch\n",
    "    avg_loss, acc = train(model, device, DataLoader(TensorDataset(train_data, train_labels), batch_size=64, shuffle=True), optimizer, epoch, criterion)\n",
    "    train_losses.append(avg_loss) #调用train函数进行训练，获取平均损失和准确率并添加到对应列表\n",
    "    train_accs.append(acc)"
   ]
  },
  {
   "cell_type": "markdown",
   "id": "85146c7e",
   "metadata": {
    "id": "85146c7e"
   },
   "source": [
    "# 尝试绘制loss和acc的图像"
   ]
  },
  {
   "cell_type": "code",
   "execution_count": 12,
   "id": "04af8688",
   "metadata": {
    "colab": {
     "base_uri": "https://localhost:8080/",
     "height": 507
    },
    "id": "04af8688",
    "outputId": "3aaf0288-b887-4483-99ff-1fedb85452b8"
   },
   "outputs": [
    {
     "data": {
      "image/png": "[encoded data removed]",
      "text/plain": [
       "<Figure size 1000x500 with 2 Axes>"
      ]
     },
     "metadata": {},
     "output_type": "display_data"
    }
   ],
   "source": [
    "# 确保train_losses和train_accs中的值是CPU张量或数值\n",
    "train_accs = [acc.item() for acc in train_accs]\n",
    "# 训练结束后绘制曲线\n",
    "plt.figure(figsize=(10, 5))  #创建窗口并规定图像大小\n",
    "\n",
    "# 绘制损失曲线\n",
    "plt.subplot(1, 2, 1)  #创建子图网格\n",
    "plt.plot(train_losses, label='Training Loss') #绘制训练损失曲线\n",
    "plt.title('Training Loss over Epochs') #子图标题\n",
    "plt.xlabel('Epoch')  #X轴标签\n",
    "plt.ylabel('Loss')   #Y轴标签\n",
    "plt.legend()  #显示图例\n",
    "\n",
    "# 绘制准确率曲线\n",
    "plt.subplot(1, 2, 2)\n",
    "plt.plot(train_accs, label='Training Accuracy')\n",
    "plt.title('Training Accuracy over Epochs')\n",
    "plt.xlabel('Epoch')\n",
    "plt.ylabel('Accuracy')\n",
    "plt.legend()\n",
    "\n",
    "# 显示图形\n",
    "plt.tight_layout()\n",
    "plt.show()"
   ]
  },
  {
   "cell_type": "code",
   "execution_count": 13,
   "id": "f3ccf87f",
   "metadata": {
    "colab": {
     "base_uri": "https://localhost:8080/"
    },
    "id": "f3ccf87f",
    "outputId": "8b75e8e9-4630-466e-9d2b-86ace90aa930"
   },
   "outputs": [
    {
     "name": "stdout",
     "output_type": "stream",
     "text": [
      "\n",
      "Test set: Average loss: 1.4354, Accuracy: 6487/10000 (65%)\n",
      "\n"
     ]
    }
   ],
   "source": [
    "import pandas as pd\n",
    "classes = ['airplane', 'automobile', 'bird', 'cat', 'deer', 'dog', 'frog', 'horse', 'ship', 'truck']  #定义10个类别\n",
    "def test(model, device, test_loader, output_file):  #测试函数\n",
    "    model.eval()  # 设置模型为评估模式\n",
    "    test_loss = 0 #初始化用于记录测试损失、正确预测数和总样本数的变量\n",
    "    correct = 0\n",
    "    total = 0\n",
    "    preds = []\n",
    "    with torch.no_grad():  # 不需要计算梯度\n",
    "        for data, target in test_loader:   #遍历每个批次的数据\n",
    "            data, target = data.to(device), target.to(device)  # 将数据转移到指定设备上\n",
    "            output = model(data)  # 模型预测得到输出\n",
    "            loss = criterion(output, target)  # 计算损失\n",
    "            test_loss += loss.item()  # 累加损失\n",
    "            _, predicted = torch.max(output, 1)  # 获取预测结果\n",
    "            preds.extend([classes[i] for i in predicted.cpu().numpy()])#将预测类别转换为类别标签字符串，并添加到preds列表中\n",
    "            total += target.size(0)  # 累加样本总数\n",
    "            correct += (predicted == target).sum().item()  # 统计正确预测的样本数\n",
    "    # 创建DataFrame并保存为CSV文件\n",
    "    sorted_ids = list(range(1, len(test_data) + 1))\n",
    "    sorted_ids.sort(key=lambda x: str(x))\n",
    "    df = pd.DataFrame({'id': sorted_ids, 'label': preds})  #第一列是id，第二列是预测的类别\n",
    "    df.to_csv(output_file, index=False)  # 保存为CSV文件，不包含索引\n",
    "\n",
    "    # 计算平均损失和准确率\n",
    "    avg_loss = test_loss / total\n",
    "    accuracy = 100 * correct / total\n",
    "\n",
    "    print('\\nTest set: Average loss: {:.4f}, Accuracy: {}/{} ({:.0f}%)\\n'.format(  #打印平均loss和准确率\n",
    "        avg_loss, correct, total, accuracy))\n",
    "\n",
    "# 创建DataLoader\n",
    "test_loader = DataLoader(TensorDataset(test_data, test_labels))\n",
    "\n",
    "# 测试模型\n",
    "test(model, device, test_loader, 'submission.csv')"
   ]
  },
  {
   "cell_type": "code",
   "execution_count": null,
   "id": "3263841c",
   "metadata": {
    "id": "3263841c"
   },
   "outputs": [],
   "source": [
    "#the end"
   ]
  }
 ],
 "metadata": {
  "accelerator": "GPU",
  "colab": {
   "gpuType": "T4",
   "provenance": []
  },
  "kernelspec": {
   "display_name": "Python 3 (ipykernel)",
   "language": "python",
   "name": "python3"
  },
  "language_info": {
   "codemirror_mode": {
    "name": "ipython",
    "version": 3
   },
   "file_extension": ".py",
   "mimetype": "text/x-python",
   "name": "python",
   "nbconvert_exporter": "python",
   "pygments_lexer": "ipython3",
   "version": "3.9.18"
  }
 },
 "nbformat": 4,
 "nbformat_minor": 5
}
